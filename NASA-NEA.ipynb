{
 "cells": [
  {
   "cell_type": "code",
   "execution_count": 234,
   "id": "f19b3eba",
   "metadata": {},
   "outputs": [],
   "source": [
    "## DATA CLEANING ##"
   ]
  },
  {
   "cell_type": "code",
   "execution_count": 235,
   "id": "398150ef",
   "metadata": {},
   "outputs": [],
   "source": [
    "import pandas as pd\n",
    "import numpy as np\n",
    "import seaborn as sns\n",
    "import os"
   ]
  },
  {
   "cell_type": "code",
   "execution_count": 236,
   "id": "c3a3f87d",
   "metadata": {},
   "outputs": [],
   "source": [
    "file = \"/Users/mdcummings/Desktop/Data Analysis/Common Code/new.csv\""
   ]
  },
  {
   "cell_type": "code",
   "execution_count": 237,
   "id": "1a25c263",
   "metadata": {},
   "outputs": [],
   "source": [
    "df = pd.read_csv(file)"
   ]
  },
  {
   "cell_type": "code",
   "execution_count": 238,
   "id": "33f60524",
   "metadata": {},
   "outputs": [
    {
     "data": {
      "text/html": [
       "<div>\n",
       "<style scoped>\n",
       "    .dataframe tbody tr th:only-of-type {\n",
       "        vertical-align: middle;\n",
       "    }\n",
       "\n",
       "    .dataframe tbody tr th {\n",
       "        vertical-align: top;\n",
       "    }\n",
       "\n",
       "    .dataframe thead th {\n",
       "        text-align: right;\n",
       "    }\n",
       "</style>\n",
       "<table border=\"1\" class=\"dataframe\">\n",
       "  <thead>\n",
       "    <tr style=\"text-align: right;\">\n",
       "      <th></th>\n",
       "      <th>First Name</th>\n",
       "      <th>Last Name</th>\n",
       "      <th>SSN</th>\n",
       "      <th>age</th>\n",
       "    </tr>\n",
       "  </thead>\n",
       "  <tbody>\n",
       "    <tr>\n",
       "      <th>0</th>\n",
       "      <td>Caleb</td>\n",
       "      <td>Frost</td>\n",
       "      <td>505-80-2901</td>\n",
       "      <td>84</td>\n",
       "    </tr>\n",
       "    <tr>\n",
       "      <th>1</th>\n",
       "      <td>John</td>\n",
       "      <td>NaN</td>\n",
       "      <td>504-55-1515</td>\n",
       "      <td>88</td>\n",
       "    </tr>\n",
       "    <tr>\n",
       "      <th>2</th>\n",
       "      <td>Rocky</td>\n",
       "      <td>Lake</td>\n",
       "      <td>533-84-2931</td>\n",
       "      <td>33</td>\n",
       "    </tr>\n",
       "    <tr>\n",
       "      <th>3</th>\n",
       "      <td>Gary</td>\n",
       "      <td>Springer</td>\n",
       "      <td>838-11-2901</td>\n",
       "      <td>64</td>\n",
       "    </tr>\n",
       "    <tr>\n",
       "      <th>4</th>\n",
       "      <td>Hector</td>\n",
       "      <td>Frost</td>\n",
       "      <td>505-25-2901</td>\n",
       "      <td>12</td>\n",
       "    </tr>\n",
       "    <tr>\n",
       "      <th>5</th>\n",
       "      <td>Opera</td>\n",
       "      <td>Winfried</td>\n",
       "      <td>N/a</td>\n",
       "      <td>74</td>\n",
       "    </tr>\n",
       "    <tr>\n",
       "      <th>6</th>\n",
       "      <td>Maui</td>\n",
       "      <td>Rostropovich</td>\n",
       "      <td>377-80-2901</td>\n",
       "      <td>54</td>\n",
       "    </tr>\n",
       "    <tr>\n",
       "      <th>7</th>\n",
       "      <td>Annie</td>\n",
       "      <td>Oakley</td>\n",
       "      <td>288-48-9989</td>\n",
       "      <td>22</td>\n",
       "    </tr>\n",
       "    <tr>\n",
       "      <th>8</th>\n",
       "      <td>Loki</td>\n",
       "      <td>Oakley</td>\n",
       "      <td>933-55-5612</td>\n",
       "      <td>38</td>\n",
       "    </tr>\n",
       "    <tr>\n",
       "      <th>9</th>\n",
       "      <td>Hannah</td>\n",
       "      <td>Banana</td>\n",
       "      <td>505-12-7483</td>\n",
       "      <td>31</td>\n",
       "    </tr>\n",
       "  </tbody>\n",
       "</table>\n",
       "</div>"
      ],
      "text/plain": [
       "  First Name     Last Name          SSN  age\n",
       "0      Caleb         Frost  505-80-2901   84\n",
       "1       John           NaN  504-55-1515   88\n",
       "2      Rocky          Lake  533-84-2931   33\n",
       "3       Gary      Springer  838-11-2901   64\n",
       "4     Hector         Frost  505-25-2901   12\n",
       "5      Opera      Winfried          N/a   74\n",
       "6       Maui  Rostropovich  377-80-2901   54\n",
       "7      Annie        Oakley  288-48-9989   22\n",
       "8       Loki        Oakley  933-55-5612   38\n",
       "9     Hannah        Banana  505-12-7483   31"
      ]
     },
     "execution_count": 238,
     "metadata": {},
     "output_type": "execute_result"
    }
   ],
   "source": [
    "df"
   ]
  },
  {
   "cell_type": "code",
   "execution_count": 249,
   "id": "862d701a",
   "metadata": {},
   "outputs": [
    {
     "data": {
      "text/plain": [
       "First Name    object\n",
       "Last Name     object\n",
       "age            int64\n",
       "dtype: object"
      ]
     },
     "execution_count": 249,
     "metadata": {},
     "output_type": "execute_result"
    }
   ],
   "source": [
    "# Understand the data types in each column\n",
    "df.dtypes\n"
   ]
  },
  {
   "cell_type": "code",
   "execution_count": 239,
   "id": "a2c24bfc",
   "metadata": {},
   "outputs": [
    {
     "data": {
      "text/html": [
       "<div>\n",
       "<style scoped>\n",
       "    .dataframe tbody tr th:only-of-type {\n",
       "        vertical-align: middle;\n",
       "    }\n",
       "\n",
       "    .dataframe tbody tr th {\n",
       "        vertical-align: top;\n",
       "    }\n",
       "\n",
       "    .dataframe thead th {\n",
       "        text-align: right;\n",
       "    }\n",
       "</style>\n",
       "<table border=\"1\" class=\"dataframe\">\n",
       "  <thead>\n",
       "    <tr style=\"text-align: right;\">\n",
       "      <th></th>\n",
       "      <th>age</th>\n",
       "    </tr>\n",
       "  </thead>\n",
       "  <tbody>\n",
       "    <tr>\n",
       "      <th>count</th>\n",
       "      <td>10.000000</td>\n",
       "    </tr>\n",
       "    <tr>\n",
       "      <th>mean</th>\n",
       "      <td>50.000000</td>\n",
       "    </tr>\n",
       "    <tr>\n",
       "      <th>std</th>\n",
       "      <td>26.687492</td>\n",
       "    </tr>\n",
       "    <tr>\n",
       "      <th>min</th>\n",
       "      <td>12.000000</td>\n",
       "    </tr>\n",
       "    <tr>\n",
       "      <th>25%</th>\n",
       "      <td>31.500000</td>\n",
       "    </tr>\n",
       "    <tr>\n",
       "      <th>50%</th>\n",
       "      <td>46.000000</td>\n",
       "    </tr>\n",
       "    <tr>\n",
       "      <th>75%</th>\n",
       "      <td>71.500000</td>\n",
       "    </tr>\n",
       "    <tr>\n",
       "      <th>max</th>\n",
       "      <td>88.000000</td>\n",
       "    </tr>\n",
       "  </tbody>\n",
       "</table>\n",
       "</div>"
      ],
      "text/plain": [
       "             age\n",
       "count  10.000000\n",
       "mean   50.000000\n",
       "std    26.687492\n",
       "min    12.000000\n",
       "25%    31.500000\n",
       "50%    46.000000\n",
       "75%    71.500000\n",
       "max    88.000000"
      ]
     },
     "execution_count": 239,
     "metadata": {},
     "output_type": "execute_result"
    }
   ],
   "source": [
    "# Describe the data\n",
    "df.describe()"
   ]
  },
  {
   "cell_type": "code",
   "execution_count": 240,
   "id": "020c9ec0",
   "metadata": {},
   "outputs": [
    {
     "data": {
      "text/plain": [
       "First Name    0\n",
       "Last Name     1\n",
       "SSN           0\n",
       "age           0\n",
       "dtype: int64"
      ]
     },
     "execution_count": 240,
     "metadata": {},
     "output_type": "execute_result"
    }
   ],
   "source": [
    "# How many null values in each column?\n",
    "df.isnull().sum()"
   ]
  },
  {
   "cell_type": "code",
   "execution_count": 241,
   "id": "64659b72",
   "metadata": {},
   "outputs": [],
   "source": [
    "# Identifying the different sorts of null values\n",
    "missing_value = [\"N/a\", \"na\", \"n/a\", \"n/A\", np.nan]\n",
    "df = pd.read_csv(file, na_values = missing_value)"
   ]
  },
  {
   "cell_type": "code",
   "execution_count": 242,
   "id": "bdee0ff2",
   "metadata": {},
   "outputs": [
    {
     "data": {
      "text/plain": [
       "First Name    0\n",
       "Last Name     1\n",
       "SSN           1\n",
       "age           0\n",
       "dtype: int64"
      ]
     },
     "execution_count": 242,
     "metadata": {},
     "output_type": "execute_result"
    }
   ],
   "source": [
    "# How many of all variations of null are there per column\n",
    "df.isnull().sum()"
   ]
  },
  {
   "cell_type": "code",
   "execution_count": 243,
   "id": "f243789d",
   "metadata": {},
   "outputs": [
    {
     "data": {
      "text/plain": [
       "<AxesSubplot:>"
      ]
     },
     "execution_count": 243,
     "metadata": {},
     "output_type": "execute_result"
    },
    {
     "data": {
      "image/png": "[encoded data removed]",
      "text/plain": [
       "<Figure size 640x480 with 2 Axes>"
      ]
     },
     "metadata": {},
     "output_type": "display_data"
    }
   ],
   "source": [
    "# Plot a heat map showing the null values\n",
    "sns.heatmap(df.isnull(), yticklabels=False)"
   ]
  },
  {
   "cell_type": "code",
   "execution_count": 244,
   "id": "5aab8e29",
   "metadata": {},
   "outputs": [
    {
     "data": {
      "text/html": [
       "<div>\n",
       "<style scoped>\n",
       "    .dataframe tbody tr th:only-of-type {\n",
       "        vertical-align: middle;\n",
       "    }\n",
       "\n",
       "    .dataframe tbody tr th {\n",
       "        vertical-align: top;\n",
       "    }\n",
       "\n",
       "    .dataframe thead th {\n",
       "        text-align: right;\n",
       "    }\n",
       "</style>\n",
       "<table border=\"1\" class=\"dataframe\">\n",
       "  <thead>\n",
       "    <tr style=\"text-align: right;\">\n",
       "      <th></th>\n",
       "      <th>First Name</th>\n",
       "      <th>Last Name</th>\n",
       "      <th>SSN</th>\n",
       "      <th>age</th>\n",
       "    </tr>\n",
       "  </thead>\n",
       "  <tbody>\n",
       "    <tr>\n",
       "      <th>0</th>\n",
       "      <td>Caleb</td>\n",
       "      <td>Frost</td>\n",
       "      <td>505-80-2901</td>\n",
       "      <td>84</td>\n",
       "    </tr>\n",
       "    <tr>\n",
       "      <th>2</th>\n",
       "      <td>Rocky</td>\n",
       "      <td>Lake</td>\n",
       "      <td>533-84-2931</td>\n",
       "      <td>33</td>\n",
       "    </tr>\n",
       "    <tr>\n",
       "      <th>3</th>\n",
       "      <td>Gary</td>\n",
       "      <td>Springer</td>\n",
       "      <td>838-11-2901</td>\n",
       "      <td>64</td>\n",
       "    </tr>\n",
       "    <tr>\n",
       "      <th>4</th>\n",
       "      <td>Hector</td>\n",
       "      <td>Frost</td>\n",
       "      <td>505-25-2901</td>\n",
       "      <td>12</td>\n",
       "    </tr>\n",
       "    <tr>\n",
       "      <th>6</th>\n",
       "      <td>Maui</td>\n",
       "      <td>Rostropovich</td>\n",
       "      <td>377-80-2901</td>\n",
       "      <td>54</td>\n",
       "    </tr>\n",
       "    <tr>\n",
       "      <th>7</th>\n",
       "      <td>Annie</td>\n",
       "      <td>Oakley</td>\n",
       "      <td>288-48-9989</td>\n",
       "      <td>22</td>\n",
       "    </tr>\n",
       "    <tr>\n",
       "      <th>8</th>\n",
       "      <td>Loki</td>\n",
       "      <td>Oakley</td>\n",
       "      <td>933-55-5612</td>\n",
       "      <td>38</td>\n",
       "    </tr>\n",
       "    <tr>\n",
       "      <th>9</th>\n",
       "      <td>Hannah</td>\n",
       "      <td>Banana</td>\n",
       "      <td>505-12-7483</td>\n",
       "      <td>31</td>\n",
       "    </tr>\n",
       "  </tbody>\n",
       "</table>\n",
       "</div>"
      ],
      "text/plain": [
       "  First Name     Last Name          SSN  age\n",
       "0      Caleb         Frost  505-80-2901   84\n",
       "2      Rocky          Lake  533-84-2931   33\n",
       "3       Gary      Springer  838-11-2901   64\n",
       "4     Hector         Frost  505-25-2901   12\n",
       "6       Maui  Rostropovich  377-80-2901   54\n",
       "7      Annie        Oakley  288-48-9989   22\n",
       "8       Loki        Oakley  933-55-5612   38\n",
       "9     Hannah        Banana  505-12-7483   31"
      ]
     },
     "execution_count": 244,
     "metadata": {},
     "output_type": "execute_result"
    }
   ],
   "source": [
    "# Remove null values\n",
    "df = df.dropna()\n",
    "df"
   ]
  },
  {
   "cell_type": "code",
   "execution_count": 245,
   "id": "fa1ec5ec",
   "metadata": {},
   "outputs": [
    {
     "data": {
      "text/plain": [
       "<AxesSubplot:>"
      ]
     },
     "execution_count": 245,
     "metadata": {},
     "output_type": "execute_result"
    },
    {
     "data": {
      "image/png": "[encoded data removed]",
      "text/plain": [
       "<Figure size 640x480 with 2 Axes>"
      ]
     },
     "metadata": {},
     "output_type": "display_data"
    }
   ],
   "source": [
    "# Plot a heat map verifying the null values are removed\n",
    "sns.heatmap(df.isnull(), yticklabels=False)"
   ]
  },
  {
   "cell_type": "code",
   "execution_count": 246,
   "id": "f340c08e",
   "metadata": {},
   "outputs": [
    {
     "data": {
      "text/html": [
       "<div>\n",
       "<style scoped>\n",
       "    .dataframe tbody tr th:only-of-type {\n",
       "        vertical-align: middle;\n",
       "    }\n",
       "\n",
       "    .dataframe tbody tr th {\n",
       "        vertical-align: top;\n",
       "    }\n",
       "\n",
       "    .dataframe thead th {\n",
       "        text-align: right;\n",
       "    }\n",
       "</style>\n",
       "<table border=\"1\" class=\"dataframe\">\n",
       "  <thead>\n",
       "    <tr style=\"text-align: right;\">\n",
       "      <th></th>\n",
       "      <th>First Name</th>\n",
       "      <th>SSN</th>\n",
       "      <th>age</th>\n",
       "    </tr>\n",
       "    <tr>\n",
       "      <th>Last Name</th>\n",
       "      <th></th>\n",
       "      <th></th>\n",
       "      <th></th>\n",
       "    </tr>\n",
       "  </thead>\n",
       "  <tbody>\n",
       "    <tr>\n",
       "      <th>Banana</th>\n",
       "      <td>1</td>\n",
       "      <td>1</td>\n",
       "      <td>1</td>\n",
       "    </tr>\n",
       "    <tr>\n",
       "      <th>Frost</th>\n",
       "      <td>2</td>\n",
       "      <td>2</td>\n",
       "      <td>2</td>\n",
       "    </tr>\n",
       "    <tr>\n",
       "      <th>Lake</th>\n",
       "      <td>1</td>\n",
       "      <td>1</td>\n",
       "      <td>1</td>\n",
       "    </tr>\n",
       "    <tr>\n",
       "      <th>Oakley</th>\n",
       "      <td>2</td>\n",
       "      <td>2</td>\n",
       "      <td>2</td>\n",
       "    </tr>\n",
       "    <tr>\n",
       "      <th>Rostropovich</th>\n",
       "      <td>1</td>\n",
       "      <td>1</td>\n",
       "      <td>1</td>\n",
       "    </tr>\n",
       "    <tr>\n",
       "      <th>Springer</th>\n",
       "      <td>1</td>\n",
       "      <td>1</td>\n",
       "      <td>1</td>\n",
       "    </tr>\n",
       "  </tbody>\n",
       "</table>\n",
       "</div>"
      ],
      "text/plain": [
       "              First Name  SSN  age\n",
       "Last Name                         \n",
       "Banana                 1    1    1\n",
       "Frost                  2    2    2\n",
       "Lake                   1    1    1\n",
       "Oakley                 2    2    2\n",
       "Rostropovich           1    1    1\n",
       "Springer               1    1    1"
      ]
     },
     "execution_count": 246,
     "metadata": {},
     "output_type": "execute_result"
    }
   ],
   "source": [
    "# Group the DataFrame by Last Name to see any duplicates\n",
    "df_engine = df.groupby('Last Name').count()\n",
    "df_engine"
   ]
  },
  {
   "cell_type": "code",
   "execution_count": 247,
   "id": "679b2243",
   "metadata": {},
   "outputs": [
    {
     "data": {
      "text/html": [
       "<div>\n",
       "<style scoped>\n",
       "    .dataframe tbody tr th:only-of-type {\n",
       "        vertical-align: middle;\n",
       "    }\n",
       "\n",
       "    .dataframe tbody tr th {\n",
       "        vertical-align: top;\n",
       "    }\n",
       "\n",
       "    .dataframe thead th {\n",
       "        text-align: right;\n",
       "    }\n",
       "</style>\n",
       "<table border=\"1\" class=\"dataframe\">\n",
       "  <thead>\n",
       "    <tr style=\"text-align: right;\">\n",
       "      <th></th>\n",
       "      <th>mean</th>\n",
       "    </tr>\n",
       "    <tr>\n",
       "      <th>Last Name</th>\n",
       "      <th></th>\n",
       "    </tr>\n",
       "  </thead>\n",
       "  <tbody>\n",
       "    <tr>\n",
       "      <th>Banana</th>\n",
       "      <td>31.0</td>\n",
       "    </tr>\n",
       "    <tr>\n",
       "      <th>Frost</th>\n",
       "      <td>48.0</td>\n",
       "    </tr>\n",
       "    <tr>\n",
       "      <th>Lake</th>\n",
       "      <td>33.0</td>\n",
       "    </tr>\n",
       "    <tr>\n",
       "      <th>Oakley</th>\n",
       "      <td>30.0</td>\n",
       "    </tr>\n",
       "    <tr>\n",
       "      <th>Rostropovich</th>\n",
       "      <td>54.0</td>\n",
       "    </tr>\n",
       "    <tr>\n",
       "      <th>Springer</th>\n",
       "      <td>64.0</td>\n",
       "    </tr>\n",
       "  </tbody>\n",
       "</table>\n",
       "</div>"
      ],
      "text/plain": [
       "              mean\n",
       "Last Name         \n",
       "Banana        31.0\n",
       "Frost         48.0\n",
       "Lake          33.0\n",
       "Oakley        30.0\n",
       "Rostropovich  54.0\n",
       "Springer      64.0"
      ]
     },
     "execution_count": 247,
     "metadata": {},
     "output_type": "execute_result"
    }
   ],
   "source": [
    "# Get some statistics (can also include, 'min', 'max', 'mean')\n",
    "df.groupby('Last Name').age.agg(['mean'])"
   ]
  },
  {
   "cell_type": "code",
   "execution_count": 248,
   "id": "ff64d02f",
   "metadata": {},
   "outputs": [
    {
     "data": {
      "text/html": [
       "<div>\n",
       "<style scoped>\n",
       "    .dataframe tbody tr th:only-of-type {\n",
       "        vertical-align: middle;\n",
       "    }\n",
       "\n",
       "    .dataframe tbody tr th {\n",
       "        vertical-align: top;\n",
       "    }\n",
       "\n",
       "    .dataframe thead th {\n",
       "        text-align: right;\n",
       "    }\n",
       "</style>\n",
       "<table border=\"1\" class=\"dataframe\">\n",
       "  <thead>\n",
       "    <tr style=\"text-align: right;\">\n",
       "      <th></th>\n",
       "      <th>First Name</th>\n",
       "      <th>Last Name</th>\n",
       "      <th>age</th>\n",
       "    </tr>\n",
       "  </thead>\n",
       "  <tbody>\n",
       "    <tr>\n",
       "      <th>0</th>\n",
       "      <td>Caleb</td>\n",
       "      <td>Frost</td>\n",
       "      <td>84</td>\n",
       "    </tr>\n",
       "    <tr>\n",
       "      <th>2</th>\n",
       "      <td>Rocky</td>\n",
       "      <td>Lake</td>\n",
       "      <td>33</td>\n",
       "    </tr>\n",
       "    <tr>\n",
       "      <th>3</th>\n",
       "      <td>Gary</td>\n",
       "      <td>Springer</td>\n",
       "      <td>64</td>\n",
       "    </tr>\n",
       "    <tr>\n",
       "      <th>4</th>\n",
       "      <td>Hector</td>\n",
       "      <td>Frost</td>\n",
       "      <td>12</td>\n",
       "    </tr>\n",
       "    <tr>\n",
       "      <th>6</th>\n",
       "      <td>Maui</td>\n",
       "      <td>Rostropovich</td>\n",
       "      <td>54</td>\n",
       "    </tr>\n",
       "    <tr>\n",
       "      <th>7</th>\n",
       "      <td>Annie</td>\n",
       "      <td>Oakley</td>\n",
       "      <td>22</td>\n",
       "    </tr>\n",
       "    <tr>\n",
       "      <th>8</th>\n",
       "      <td>Loki</td>\n",
       "      <td>Oakley</td>\n",
       "      <td>38</td>\n",
       "    </tr>\n",
       "    <tr>\n",
       "      <th>9</th>\n",
       "      <td>Hannah</td>\n",
       "      <td>Banana</td>\n",
       "      <td>31</td>\n",
       "    </tr>\n",
       "  </tbody>\n",
       "</table>\n",
       "</div>"
      ],
      "text/plain": [
       "  First Name     Last Name  age\n",
       "0      Caleb         Frost   84\n",
       "2      Rocky          Lake   33\n",
       "3       Gary      Springer   64\n",
       "4     Hector         Frost   12\n",
       "6       Maui  Rostropovich   54\n",
       "7      Annie        Oakley   22\n",
       "8       Loki        Oakley   38\n",
       "9     Hannah        Banana   31"
      ]
     },
     "execution_count": 248,
     "metadata": {},
     "output_type": "execute_result"
    }
   ],
   "source": [
    "# Drop any unnecessary columns ('number')\n",
    "df = df.drop('SSN', axis=1)\n",
    "df\n",
    "\n",
    "# df = df.drop('column_name', axis=1)\n",
    "# where 1 is the axis number (0 for rows and 1 for columns.)\n",
    "\n",
    "# Or, the drop() method accepts index/columns keywords as an alternative to specifying the axis. So we can now just do:\n",
    "\n",
    "# df = df.drop(columns=['column_nameA', 'column_nameB'])"
   ]
  },
  {
   "cell_type": "code",
   "execution_count": 224,
   "id": "902296d9",
   "metadata": {},
   "outputs": [],
   "source": [
    "## DATA NORMALIZATION ##\n",
    "\n",
    "# Three most common forms \n",
    "\n",
    "# first normal form 1nf \n",
    "#     goes from raw data to first normal form where each row is unique\n",
    "# second normal form 2nf\n",
    "    # starts breaking things up into relational tables. \n",
    "    # ex) One big table broken up into three tables that share no data\n",
    "    # unique identifier for each row and all columns are dependent on primary key\n",
    "# third normal form 2nf\n",
    "    # Separate tables for each column without any connection to another table"
   ]
  },
  {
   "cell_type": "code",
   "execution_count": null,
   "id": "d443f742",
   "metadata": {},
   "outputs": [],
   "source": [
    "# TRANSITIVE DEPENDENCY #\n",
    "# if A == B and B == C then A == C\n",
    "# one value relies on another"
   ]
  }
 ],
 "metadata": {
  "kernelspec": {
   "display_name": "Python 3 (ipykernel)",
   "language": "python",
   "name": "python3"
  },
  "language_info": {
   "codemirror_mode": {
    "name": "ipython",
    "version": 3
   },
   "file_extension": ".py",
   "mimetype": "text/x-python",
   "name": "python",
   "nbconvert_exporter": "python",
   "pygments_lexer": "ipython3",
   "version": "3.9.13"
  }
 },
 "nbformat": 4,
 "nbformat_minor": 5
}
